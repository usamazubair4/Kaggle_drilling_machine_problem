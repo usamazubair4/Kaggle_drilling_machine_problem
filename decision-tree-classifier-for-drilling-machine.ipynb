{
 "cells": [
  {
   "cell_type": "code",
   "execution_count": 1,
   "id": "844251a8",
   "metadata": {
    "_cell_guid": "b1076dfc-b9ad-4769-8c92-a6c4dae69d19",
    "_uuid": "8f2839f25d086af736a60e9eeb907d3b93b6e0e5",
    "execution": {
     "iopub.execute_input": "2024-05-23T05:09:28.005926Z",
     "iopub.status.busy": "2024-05-23T05:09:28.005526Z",
     "iopub.status.idle": "2024-05-23T05:09:29.021812Z",
     "shell.execute_reply": "2024-05-23T05:09:29.019780Z"
    },
    "papermill": {
     "duration": 1.02676,
     "end_time": "2024-05-23T05:09:29.024700",
     "exception": false,
     "start_time": "2024-05-23T05:09:27.997940",
     "status": "completed"
    },
    "tags": []
   },
   "outputs": [
    {
     "name": "stdout",
     "output_type": "stream",
     "text": [
      "/kaggle/input/industrial-ai-examen/data/data_pdmp6.csv\n",
      "/kaggle/input/industrial-ai-examen/data/data_po3.csv\n",
      "/kaggle/input/industrial-ai-examen/data/data_pin2.csv\n",
      "/kaggle/input/industrial-ai-examen/data/data_pin3.csv\n",
      "/kaggle/input/industrial-ai-examen/data/data_pin5.csv\n",
      "/kaggle/input/industrial-ai-examen/data/data_pin1.csv\n",
      "/kaggle/input/industrial-ai-examen/data/data_po2.csv\n",
      "/kaggle/input/industrial-ai-examen/data/data_po5.csv\n",
      "/kaggle/input/industrial-ai-examen/data/data_pdmp2.csv\n",
      "/kaggle/input/industrial-ai-examen/data/data_pin4.csv\n",
      "/kaggle/input/industrial-ai-examen/data/data_po4.csv\n",
      "/kaggle/input/industrial-ai-examen/data/data_po6.csv\n",
      "/kaggle/input/industrial-ai-examen/data/data_po1.csv\n",
      "/kaggle/input/industrial-ai-examen/data/data_pdmp4.csv\n",
      "/kaggle/input/industrial-ai-examen/data/data_pdmp1.csv\n",
      "/kaggle/input/industrial-ai-examen/data/data_pin6.csv\n",
      "/kaggle/input/industrial-ai-examen/data/data_pdmp5.csv\n",
      "/kaggle/input/industrial-ai-examen/data/data_pdmp3.csv\n"
     ]
    }
   ],
   "source": [
    "# This Python 3 environment comes with many helpful analytics libraries installed\n",
    "# It is defined by the kaggle/python Docker image: https://github.com/kaggle/docker-python\n",
    "# For example, here's several helpful packages to load\n",
    "\n",
    "import numpy as np # linear algebra\n",
    "import pandas as pd # data processing, CSV file I/O (e.g. pd.read_csv)\n",
    "\n",
    "# Input data files are available in the read-only \"../input/\" directory\n",
    "# For example, running this (by clicking run or pressing Shift+Enter) will list all files under the input directory\n",
    "\n",
    "import os\n",
    "for dirname, _, filenames in os.walk('/kaggle/input'):\n",
    "    for filename in filenames:\n",
    "        print(os.path.join(dirname, filename))\n",
    "\n",
    "# You can write up to 20GB to the current directory (/kaggle/working/) that gets preserved as output when you create a version using \"Save & Run All\" \n",
    "# You can also write temporary files to /kaggle/temp/, but they won't be saved outside of the current session"
   ]
  },
  {
   "cell_type": "code",
   "execution_count": 2,
   "id": "26ff570a",
   "metadata": {
    "execution": {
     "iopub.execute_input": "2024-05-23T05:09:29.038212Z",
     "iopub.status.busy": "2024-05-23T05:09:29.037644Z",
     "iopub.status.idle": "2024-05-23T05:09:53.654437Z",
     "shell.execute_reply": "2024-05-23T05:09:53.653363Z"
    },
    "papermill": {
     "duration": 24.626548,
     "end_time": "2024-05-23T05:09:53.657203",
     "exception": false,
     "start_time": "2024-05-23T05:09:29.030655",
     "status": "completed"
    },
    "tags": []
   },
   "outputs": [],
   "source": [
    "\n",
    "\n",
    "test_1 = pd.read_csv('/kaggle/input/industrial-ai-examen/data/data_pdmp3.csv',header=None)\n",
    "test_2 =  pd.read_csv('/kaggle/input/industrial-ai-examen/data/data_pin3.csv',header=None)\n",
    "test_3 = pd.read_csv('/kaggle/input/industrial-ai-examen/data/data_po3.csv',header=None)\n",
    "\n",
    "#Target feature\n",
    "df_target= test_1.iloc[:,0]\n",
    "test_1 = test_1.iloc[:,1:]\n",
    "test_2 = test_2.iloc[:,1:]\n",
    "test_3 = test_3.iloc[:,1:]\n",
    "\n",
    "\n",
    "# Concat the differntial pressure dataset\n",
    "drill_1 = pd.read_csv('/kaggle/input/industrial-ai-examen/data/data_pdmp1.csv',header=None)\n",
    "drill_2 = pd.read_csv('/kaggle/input/industrial-ai-examen/data/data_pdmp2.csv', header=None)\n",
    "drill_4 = pd.read_csv('/kaggle/input/industrial-ai-examen/data/data_pdmp4.csv',header=None)\n",
    "drill_5 = pd.read_csv('/kaggle/input/industrial-ai-examen/data/data_pdmp5.csv', header=None)\n",
    "drill_6 = pd.read_csv('/kaggle/input/industrial-ai-examen/data/data_pdmp6.csv',header=None)\n",
    "drill_pd = pd.concat([drill_1,drill_2,drill_4,drill_5,drill_6], ignore_index=True)\n",
    "\n",
    "#Concat the pin dataset\n",
    "\n",
    "drill_pin1 = pd.read_csv('/kaggle/input/industrial-ai-examen/data/data_pin1.csv',header=None)\n",
    "drill_pin2 = pd.read_csv('/kaggle/input/industrial-ai-examen/data/data_pin2.csv',header=None)\n",
    "drill_pin4 = pd.read_csv('/kaggle/input/industrial-ai-examen/data/data_pin4.csv',header=None)\n",
    "drill_pin5 = pd.read_csv('/kaggle/input/industrial-ai-examen/data/data_pin5.csv',header=None)\n",
    "drill_pin6 = pd.read_csv('/kaggle/input/industrial-ai-examen/data/data_pin6.csv',header=None)\n",
    "drill_pin = pd.concat([drill_pin1,drill_pin2,drill_pin4,drill_pin5,drill_pin6], ignore_index=True)\n",
    "\n",
    "# Concat the po dataset\n",
    "\n",
    "drill_po1 = pd.read_csv('/kaggle/input/industrial-ai-examen/data/data_po1.csv',header=None)\n",
    "drill_po2 = pd.read_csv('/kaggle/input/industrial-ai-examen/data/data_po2.csv',header=None)\n",
    "drill_po4 = pd.read_csv('/kaggle/input/industrial-ai-examen/data/data_po4.csv',header=None)\n",
    "drill_po5 = pd.read_csv('/kaggle/input/industrial-ai-examen/data/data_po5.csv',header=None)\n",
    "drill_po6 = pd.read_csv('/kaggle/input/industrial-ai-examen/data/data_po6.csv',header=None)\n",
    "drill_po = pd.concat([drill_po1,drill_po2,drill_po4,drill_po5,drill_po6], ignore_index=True)\n",
    "\n",
    "Target= drill_pd.iloc[:,0]\n",
    "pd_data = drill_pd.iloc[:,1:]\n",
    "pin_data = drill_pin.iloc[:,1:]\n",
    "po_data = drill_po.iloc[:,1:]\n",
    "\n",
    "target = pd.DataFrame(Target)\n",
    "target.columns = ['Fault']"
   ]
  },
  {
   "cell_type": "code",
   "execution_count": 3,
   "id": "2ba93997",
   "metadata": {
    "execution": {
     "iopub.execute_input": "2024-05-23T05:09:53.670180Z",
     "iopub.status.busy": "2024-05-23T05:09:53.669434Z",
     "iopub.status.idle": "2024-05-23T05:09:53.678677Z",
     "shell.execute_reply": "2024-05-23T05:09:53.677294Z"
    },
    "papermill": {
     "duration": 0.0186,
     "end_time": "2024-05-23T05:09:53.681271",
     "exception": false,
     "start_time": "2024-05-23T05:09:53.662671",
     "status": "completed"
    },
    "tags": []
   },
   "outputs": [],
   "source": [
    "\n",
    "\n",
    "\n",
    "def pressure_change(dataset):\n",
    "  \"\"\"\n",
    "  Calculates pairwise differences between consecutive columns for each row in a DataFrame.\n",
    "\n",
    "  Args:\n",
    "      dataset (pandas.DataFrame): The input DataFrame containing data.\n",
    "\n",
    "  Returns:\n",
    "      pandas.DataFrame: A new DataFrame with a column named 'difference' containing \n",
    "          the pairwise differences for each row.\n",
    "\n",
    "  Raises:\n",
    "      ValueError: If the input is not a pandas DataFrame.\n",
    "  \"\"\"\n",
    "\n",
    "  if not isinstance(dataset, pd.DataFrame):\n",
    "    raise ValueError(\"Input must be a pandas DataFrame.\")\n",
    "\n",
    "  result_df = pd.DataFrame(columns=['row_index', 'difference'])\n",
    "\n",
    "  for row_index in dataset.index:\n",
    "    row_data = dataset.iloc[row_index]\n",
    "    differences = []\n",
    "    for i in range(1, len(row_data)):\n",
    "      differences.append(row_data.iloc[i] - row_data.iloc[i - 1])\n",
    "    result_df.loc[len(result_df)] = [row_index, differences]\n",
    "\n",
    "  return result_df\n",
    "\n",
    "\n",
    "\n"
   ]
  },
  {
   "cell_type": "code",
   "execution_count": 4,
   "id": "9afe26b0",
   "metadata": {
    "execution": {
     "iopub.execute_input": "2024-05-23T05:09:53.693585Z",
     "iopub.status.busy": "2024-05-23T05:09:53.693185Z",
     "iopub.status.idle": "2024-05-23T05:47:15.999471Z",
     "shell.execute_reply": "2024-05-23T05:47:15.997830Z"
    },
    "papermill": {
     "duration": 2242.316114,
     "end_time": "2024-05-23T05:47:16.002764",
     "exception": false,
     "start_time": "2024-05-23T05:09:53.686650",
     "status": "completed"
    },
    "tags": []
   },
   "outputs": [],
   "source": [
    "# Pressure changes capturing\n",
    "x = pressure_change(pd_data)\n",
    "y1 = pressure_change(pin_data)\n",
    "z = pressure_change(po_data)\n",
    "x1 = pressure_change(test_1)\n",
    "x2 = pressure_change(test_2)\n",
    "x3 = pressure_change(test_3)"
   ]
  },
  {
   "cell_type": "code",
   "execution_count": 5,
   "id": "2578d3dc",
   "metadata": {
    "execution": {
     "iopub.execute_input": "2024-05-23T05:47:16.015843Z",
     "iopub.status.busy": "2024-05-23T05:47:16.015447Z",
     "iopub.status.idle": "2024-05-23T05:47:25.975929Z",
     "shell.execute_reply": "2024-05-23T05:47:25.974864Z"
    },
    "papermill": {
     "duration": 9.970043,
     "end_time": "2024-05-23T05:47:25.978738",
     "exception": false,
     "start_time": "2024-05-23T05:47:16.008695",
     "status": "completed"
    },
    "tags": []
   },
   "outputs": [],
   "source": [
    "#test data making\n",
    "df1 =pd.DataFrame(columns=['pd_min','pd_max','pin_min','pin_max','po_min','po_max'])\n",
    "df1['pd_min'] = x1['difference'].apply(min)\n",
    "df1['pd_max'] = x1['difference'].apply(max)\n",
    "df1['pin_max'] = x2['difference'].apply(max)\n",
    "df1['pin_min'] = x2['difference'].apply(min)\n",
    "df1['po_max'] = x3['difference'].apply(max)\n",
    "df1['po_min'] = x3['difference'].apply(min)\n",
    "\n",
    "#Training data making\n",
    "\n",
    "df =pd.DataFrame(columns=['pd_min','pd_max','pin_min','pin_max','po_min','po_max'])\n",
    "df['pd_min'] = x['difference'].apply(min)\n",
    "df['pd_max'] = x['difference'].apply(max)\n",
    "df['pin_max'] = y1['difference'].apply(max)\n",
    "df['pin_min'] = y1['difference'].apply(min)\n",
    "df['po_max'] = z['difference'].apply(max)\n",
    "df['po_min'] = z['difference'].apply(min)\n"
   ]
  },
  {
   "cell_type": "markdown",
   "id": "8e5797bc",
   "metadata": {
    "papermill": {
     "duration": 0.005008,
     "end_time": "2024-05-23T05:47:25.989471",
     "exception": false,
     "start_time": "2024-05-23T05:47:25.984463",
     "status": "completed"
    },
    "tags": []
   },
   "source": [
    "**Decision tree Classifier**"
   ]
  },
  {
   "cell_type": "code",
   "execution_count": 6,
   "id": "6f8b0a60",
   "metadata": {
    "execution": {
     "iopub.execute_input": "2024-05-23T05:47:26.001869Z",
     "iopub.status.busy": "2024-05-23T05:47:26.001466Z",
     "iopub.status.idle": "2024-05-23T05:47:28.035804Z",
     "shell.execute_reply": "2024-05-23T05:47:28.034645Z"
    },
    "papermill": {
     "duration": 2.043705,
     "end_time": "2024-05-23T05:47:28.038439",
     "exception": false,
     "start_time": "2024-05-23T05:47:25.994734",
     "status": "completed"
    },
    "tags": []
   },
   "outputs": [
    {
     "name": "stdout",
     "output_type": "stream",
     "text": [
      "Accuracy: 0.765909535931075\n",
      "Confusion Matrix:\n",
      " [[ 508    0   54    6  184   35    9    7    2   92    0]\n",
      " [   0 1010    0   12    0    0    4    8    1    2    8]\n",
      " [  47    0  660    1   82   27    7   17   16   87    0]\n",
      " [   9    9    2  873    9    0    0    3    6    7    0]\n",
      " [ 184    0   60   11  513   26   19   21    4  104    1]\n",
      " [  27    0   36    0   24  770    9   17    4   32    0]\n",
      " [   6    2    9    1   12   11  655  216    0   21    7]\n",
      " [  16    6   19    4   22   18  191  579    3   27    1]\n",
      " [   0    2   17    9    5    3    5    8  857    8    0]\n",
      " [  69    3   87    5  105   48   28   28   14  458    2]\n",
      " [   0    9    0    1    0    0    9    1    1    0  940]]\n",
      "Classification Report:\n",
      "               precision    recall  f1-score   support\n",
      "\n",
      "           1       0.59      0.57      0.58       897\n",
      "           2       0.97      0.97      0.97      1045\n",
      "           3       0.70      0.70      0.70       944\n",
      "           4       0.95      0.95      0.95       918\n",
      "           5       0.54      0.54      0.54       943\n",
      "           6       0.82      0.84      0.83       919\n",
      "           7       0.70      0.70      0.70       940\n",
      "           8       0.64      0.65      0.65       886\n",
      "           9       0.94      0.94      0.94       914\n",
      "          10       0.55      0.54      0.54       847\n",
      "          11       0.98      0.98      0.98       961\n",
      "\n",
      "    accuracy                           0.77     10214\n",
      "   macro avg       0.76      0.76      0.76     10214\n",
      "weighted avg       0.77      0.77      0.77     10214\n",
      "\n"
     ]
    }
   ],
   "source": [
    "\n",
    "from sklearn.model_selection import train_test_split\n",
    "from sklearn.tree import DecisionTreeClassifier\n",
    "from sklearn.metrics import accuracy_score, confusion_matrix, classification_report\n",
    "\n",
    "\n",
    "X = df\n",
    "y = target['Fault']\n",
    "\n",
    "# Split the dataset into training and testing sets\n",
    "X_train, X_test, y_train, y_test = train_test_split(X, y, test_size=0.3, random_state=42)\n",
    "\n",
    "# Initialize the Decision Tree classifier\n",
    "dt = DecisionTreeClassifier(random_state=42)\n",
    "\n",
    "# Train the model\n",
    "dt.fit(X_train, y_train)\n",
    "\n",
    "# Make predictions on the test set\n",
    "y_pred = dt.predict(X_test)\n",
    "\n",
    "# Evaluate the model\n",
    "accuracy = accuracy_score(y_test, y_pred)\n",
    "conf_matrix = confusion_matrix(y_test, y_pred)\n",
    "class_report = classification_report(y_test, y_pred)\n",
    "\n",
    "print(\"Accuracy:\", accuracy)\n",
    "print(\"Confusion Matrix:\\n\", conf_matrix)\n",
    "print(\"Classification Report:\\n\", class_report)\n"
   ]
  },
  {
   "cell_type": "markdown",
   "id": "76047767",
   "metadata": {
    "papermill": {
     "duration": 0.005245,
     "end_time": "2024-05-23T05:47:28.049186",
     "exception": false,
     "start_time": "2024-05-23T05:47:28.043941",
     "status": "completed"
    },
    "tags": []
   },
   "source": [
    "**Without hyper tunning Score .10**"
   ]
  },
  {
   "cell_type": "code",
   "execution_count": 7,
   "id": "86a3835e",
   "metadata": {
    "execution": {
     "iopub.execute_input": "2024-05-23T05:47:28.061701Z",
     "iopub.status.busy": "2024-05-23T05:47:28.061295Z",
     "iopub.status.idle": "2024-05-23T05:47:28.082047Z",
     "shell.execute_reply": "2024-05-23T05:47:28.080837Z"
    },
    "papermill": {
     "duration": 0.030184,
     "end_time": "2024-05-23T05:47:28.084735",
     "exception": false,
     "start_time": "2024-05-23T05:47:28.054551",
     "status": "completed"
    },
    "tags": []
   },
   "outputs": [],
   "source": [
    "drill3_pred = dt.predict(df1)\n",
    "drill3_pred = pd.DataFrame(drill3_pred,columns=['Target'])\n",
    "drill3_pred['ID'] = drill3_pred.index\n",
    "drill3_pred = drill3_pred[['ID','Target']]\n",
    "drill3_pred.to_csv('submission 6.csv')"
   ]
  },
  {
   "cell_type": "markdown",
   "id": "be906267",
   "metadata": {
    "papermill": {
     "duration": 0.005184,
     "end_time": "2024-05-23T05:47:28.095627",
     "exception": false,
     "start_time": "2024-05-23T05:47:28.090443",
     "status": "completed"
    },
    "tags": []
   },
   "source": [
    "**Results with hypertunning**"
   ]
  },
  {
   "cell_type": "code",
   "execution_count": 8,
   "id": "a772dc05",
   "metadata": {
    "execution": {
     "iopub.execute_input": "2024-05-23T05:47:28.109180Z",
     "iopub.status.busy": "2024-05-23T05:47:28.108752Z",
     "iopub.status.idle": "2024-05-23T05:48:20.793809Z",
     "shell.execute_reply": "2024-05-23T05:48:20.792363Z"
    },
    "papermill": {
     "duration": 52.695265,
     "end_time": "2024-05-23T05:48:20.796720",
     "exception": false,
     "start_time": "2024-05-23T05:47:28.101455",
     "status": "completed"
    },
    "tags": []
   },
   "outputs": [
    {
     "name": "stdout",
     "output_type": "stream",
     "text": [
      "Fitting 5 folds for each of 90 candidates, totalling 450 fits\n",
      "Best Hyperparameters: {'criterion': 'gini', 'max_depth': 15, 'min_samples_leaf': 1, 'min_samples_split': 2}\n",
      "Accuracy: 0.7806931662424124\n",
      "Confusion Matrix:\n",
      " [[ 531    0   27    1  206   23    6    6    1   96    0]\n",
      " [   0 1003    0   14    1    0    3   13    1    2    8]\n",
      " [  55    0  641    2  100   21    5   15   13   92    0]\n",
      " [   9    9    2  870   13    1    0    1    6    7    0]\n",
      " [ 166    0   40    1  601   18   17   14    4   82    0]\n",
      " [  32    0   29    0   17  773    8   18    4   38    0]\n",
      " [   6    3    5    0   24   11  640  231    0   13    7]\n",
      " [  15    6    7    2   28   10  149  629    3   36    1]\n",
      " [   2    1   16    9    5    3    1   10  856    9    2]\n",
      " [  78    2   59    3  114   47   19   28   11  486    0]\n",
      " [   0    6    0    1    0    0    7    2    1    0  944]]\n",
      "Classification Report:\n",
      "               precision    recall  f1-score   support\n",
      "\n",
      "           1       0.59      0.59      0.59       897\n",
      "           2       0.97      0.96      0.97      1045\n",
      "           3       0.78      0.68      0.72       944\n",
      "           4       0.96      0.95      0.96       918\n",
      "           5       0.54      0.64      0.59       943\n",
      "           6       0.85      0.84      0.85       919\n",
      "           7       0.75      0.68      0.71       940\n",
      "           8       0.65      0.71      0.68       886\n",
      "           9       0.95      0.94      0.94       914\n",
      "          10       0.56      0.57      0.57       847\n",
      "          11       0.98      0.98      0.98       961\n",
      "\n",
      "    accuracy                           0.78     10214\n",
      "   macro avg       0.78      0.78      0.78     10214\n",
      "weighted avg       0.79      0.78      0.78     10214\n",
      "\n"
     ]
    }
   ],
   "source": [
    "from sklearn.model_selection import GridSearchCV\n",
    "\n",
    "# Define the hyperparameters grid\n",
    "param_grid = {\n",
    "    'criterion': ['gini', 'entropy'],\n",
    "    'max_depth': [None, 5, 10, 15, 20],\n",
    "    'min_samples_split': [2, 5, 10],\n",
    "    'min_samples_leaf': [1, 2, 4]\n",
    "}\n",
    "\n",
    "# Initialize the Decision Tree classifier\n",
    "dt = DecisionTreeClassifier(random_state=42)\n",
    "\n",
    "# Initialize GridSearchCV\n",
    "grid_search = GridSearchCV(estimator=dt, param_grid=param_grid, cv=5, scoring='accuracy', verbose=1, n_jobs=-1)\n",
    "\n",
    "# Perform grid search to find the best hyperparameters\n",
    "grid_search.fit(X_train, y_train)\n",
    "\n",
    "# Get the best hyperparameters\n",
    "best_params = grid_search.best_params_\n",
    "\n",
    "print(\"Best Hyperparameters:\", best_params)\n",
    "\n",
    "# Use the best hyperparameters to initialize the Decision Tree classifier\n",
    "dt_best = DecisionTreeClassifier(**best_params, random_state=42)\n",
    "\n",
    "# Train the model with the best hyperparameters\n",
    "dt_best.fit(X_train, y_train)\n",
    "\n",
    "# Make predictions on the test set\n",
    "y_pred = dt_best.predict(X_test)\n",
    "\n",
    "# Evaluate the model\n",
    "accuracy = accuracy_score(y_test, y_pred)\n",
    "conf_matrix = confusion_matrix(y_test, y_pred)\n",
    "class_report = classification_report(y_test, y_pred)\n",
    "\n",
    "print(\"Accuracy:\", accuracy)\n",
    "print(\"Confusion Matrix:\\n\", conf_matrix)\n",
    "print(\"Classification Report:\\n\", class_report)\n"
   ]
  },
  {
   "cell_type": "markdown",
   "id": "50815493",
   "metadata": {
    "papermill": {
     "duration": 0.005591,
     "end_time": "2024-05-23T05:48:20.808209",
     "exception": false,
     "start_time": "2024-05-23T05:48:20.802618",
     "status": "completed"
    },
    "tags": []
   },
   "source": [
    "**with hypertunning score**"
   ]
  },
  {
   "cell_type": "code",
   "execution_count": 9,
   "id": "ed5ff8d7",
   "metadata": {
    "execution": {
     "iopub.execute_input": "2024-05-23T05:48:20.822031Z",
     "iopub.status.busy": "2024-05-23T05:48:20.821606Z",
     "iopub.status.idle": "2024-05-23T05:48:20.840557Z",
     "shell.execute_reply": "2024-05-23T05:48:20.839384Z"
    },
    "papermill": {
     "duration": 0.029401,
     "end_time": "2024-05-23T05:48:20.843308",
     "exception": false,
     "start_time": "2024-05-23T05:48:20.813907",
     "status": "completed"
    },
    "tags": []
   },
   "outputs": [],
   "source": [
    "drill3_pred_tune = dt_best.predict(df1)\n",
    "drill3_pred_tune = pd.DataFrame(drill3_pred,columns=['Target'])\n",
    "drill3_pred_tune['ID'] = drill3_pred.index\n",
    "drill3_pred_tune = drill3_pred[['ID','Target']]\n",
    "drill3_pred_tune.to_csv('submission 7.csv')"
   ]
  },
  {
   "cell_type": "code",
   "execution_count": null,
   "id": "e6cfd9c3",
   "metadata": {
    "papermill": {
     "duration": 0.005521,
     "end_time": "2024-05-23T05:48:20.854838",
     "exception": false,
     "start_time": "2024-05-23T05:48:20.849317",
     "status": "completed"
    },
    "tags": []
   },
   "outputs": [],
   "source": []
  }
 ],
 "metadata": {
  "kaggle": {
   "accelerator": "none",
   "dataSources": [
    {
     "databundleVersionId": 8574345,
     "sourceId": 78262,
     "sourceType": "competition"
    }
   ],
   "dockerImageVersionId": 30698,
   "isGpuEnabled": false,
   "isInternetEnabled": true,
   "language": "python",
   "sourceType": "notebook"
  },
  "kernelspec": {
   "display_name": "Python 3",
   "language": "python",
   "name": "python3"
  },
  "language_info": {
   "codemirror_mode": {
    "name": "ipython",
    "version": 3
   },
   "file_extension": ".py",
   "mimetype": "text/x-python",
   "name": "python",
   "nbconvert_exporter": "python",
   "pygments_lexer": "ipython3",
   "version": "3.10.13"
  },
  "papermill": {
   "default_parameters": {},
   "duration": 2338.905272,
   "end_time": "2024-05-23T05:48:23.790297",
   "environment_variables": {},
   "exception": null,
   "input_path": "__notebook__.ipynb",
   "output_path": "__notebook__.ipynb",
   "parameters": {},
   "start_time": "2024-05-23T05:09:24.885025",
   "version": "2.5.0"
  }
 },
 "nbformat": 4,
 "nbformat_minor": 5
}
